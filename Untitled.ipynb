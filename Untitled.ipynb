{
 "cells": [
  {
   "cell_type": "code",
   "execution_count": 19,
   "id": "10c7b736",
   "metadata": {},
   "outputs": [],
   "source": [
    "import matplotlib\n",
    "import numpy as np\n",
    "import itertools\n",
    "\n",
    "from skimage import io"
   ]
  },
  {
   "cell_type": "code",
   "execution_count": 20,
   "id": "f88bccbe",
   "metadata": {},
   "outputs": [],
   "source": [
    "def get_y_img(raw_img):\n",
    "    h, w, c = raw_img.shape\n",
    "    y_img = np.zeros((h, w), dtype='float64')\n",
    "    \n",
    "    xs, ys = np.arange(h), np.arange(w)\n",
    "    for x, y in itertools.product(xs, ys):\n",
    "        y_img[x, y] = np.dot(raw_img[x, y], np.array([0.229, 0.587, 0.111]))\n",
    "    \n",
    "    return y_img"
   ]
  },
  {
   "cell_type": "code",
   "execution_count": 22,
   "id": "296c19ba",
   "metadata": {},
   "outputs": [],
   "source": [
    "def get_e_img(y_img):\n",
    "    h, w = y_img.shape\n",
    "    xs, ys = np.arange(1, w + 1), np.arange(1, h + 1)\n",
    "    e_img = np.zeros((h + 2, w + 2), dtype='float64')\n",
    "    img = np.pad(y_img, pad_width=1, mode='edge')\n",
    "    \n",
    "    for x, y in itertools.product(xs, ys):\n",
    "        dx = img[y + 1, x] - img[y - 1, x]\n",
    "        dy = img[y, x + 1] - img[y, x - 1]\n",
    "        e_img[y, x] = np.sqrt(dx*dx + dy*dy)\n",
    "    \n",
    "    return e_img[1:-1, 1:-1]"
   ]
  },
  {
   "cell_type": "code",
   "execution_count": 4,
   "id": "d911f940",
   "metadata": {},
   "outputs": [],
   "source": [
    "def get_seam_matrix(y_img, mode='horizontal shrink'):\n",
    "    h, w = y_img.shape\n",
    "    xs, ys = np.arange(1, w + 1), np.arange(1, h + 1)\n",
    "    result = np.pad(y_img, pad_width=1, mode='constant', constant_values=(10000000))\n",
    "    \n",
    "    mode = mode.split()[0]\n",
    "    strides = np.zeros((h, w), dtype = \"int\")\n",
    "    \n",
    "    if mode == 'horizontal':\n",
    "        ys = ys[1:]\n",
    "        for y in ys:\n",
    "            for x in xs:\n",
    "                stride = np.argmin(result[y - 1, x - 1 : x + 2]) - 1\n",
    "                result[y, x] += result[y - 1, x + stride]\n",
    "                strides[y - 1, x - 1] = stride\n",
    "    elif mode == 'vertical':\n",
    "        xs = xs[1:]\n",
    "        for x in xs:\n",
    "            for y in ys:\n",
    "                stride = np.argmin(result[y - 1 : y + 2, x - 1]) - 1\n",
    "                result[y, x] += result[y + stride, x - 1]\n",
    "                strides[y - 1, x - 1] = stride\n",
    "\n",
    "    else:\n",
    "        raise ValueError\n",
    "    \n",
    "    result = result[1:-1, 1:-1]\n",
    "\n",
    "    return result, strides"
   ]
  },
  {
   "cell_type": "code",
   "execution_count": 5,
   "id": "9a2835c2",
   "metadata": {},
   "outputs": [],
   "source": [
    "def get_seam_mask(seam_matrix, strides, mode='horizontal shrink'):\n",
    "    h, w = seam_matrix.shape\n",
    "    seam_mask = np.zeros((h, w), dtype='int')\n",
    "    \n",
    "    index_of_minimal = lambda arr : np.where(arr == np.amin(arr))[0][0]\n",
    "    mode = mode.split()[0]\n",
    "    x, y = w - 1, h - 1\n",
    "    \n",
    "    if mode == 'horizontal':\n",
    "        x = index_of_minimal(seam_matrix[y])\n",
    "        seam_mask[y, x] = 1\n",
    "        while y:\n",
    "            y -= 1\n",
    "            x += strides[y, x]\n",
    "            seam_mask[y, x] = 1\n",
    "\n",
    "    elif mode == 'vertical':\n",
    "        y = index_of_minimal(seam_matrix[..., x])\n",
    "        seam_mask[y, x] = 1\n",
    "        while x:\n",
    "            x -= 1\n",
    "            y += strides[y, x]\n",
    "            seam_mask[y, x] = 1\n",
    "\n",
    "    else:\n",
    "        raise ValueError\n",
    "    \n",
    "    return seam_mask"
   ]
  },
  {
   "cell_type": "code",
   "execution_count": 6,
   "id": "3dc1052d",
   "metadata": {},
   "outputs": [],
   "source": [
    "def shrink(seam_mask, img, mode):\n",
    "    mode = mode.split()[0]\n",
    "    h, w, c = img.shape\n",
    "    \n",
    "    xs, ys = np.arange(w), np.arange(h)\n",
    "    result_shape = (h, w - 1, c) if mode == 'horizontal' else (w, h - 1, c)\n",
    "    result = np.zeros(result_shape, dtype='int')\n",
    "    \n",
    "    if mode == 'vertical':\n",
    "        xs, ys = np.arange(h), np.arange(w)\n",
    "        img = (np.transpose(img[..., 0]), np.transpose(img[..., 1]), np.transpose(img[..., 2]))\n",
    "        img = np.dstack(img)\n",
    "        seam_mask = np.transpose(seam_mask)\n",
    "    \n",
    "    for y, x in itertools.product(ys, xs):\n",
    "        if seam_mask[y][x] == 1:\n",
    "            result[y][:x] = img[y][:x]\n",
    "            result[y][x:] = img[y][x+1:]\n",
    "    \n",
    "    if mode == 'vertical':\n",
    "        result = (np.transpose(result[..., 0]),\n",
    "                  np.transpose(result[..., 1]),\n",
    "                  np.transpose(result[..., 2]))\n",
    "        result = np.dstack(result)\n",
    "        seam_mask = np.transpose(seam_mask)\n",
    "            \n",
    "    return result"
   ]
  },
  {
   "cell_type": "code",
   "execution_count": 7,
   "id": "3af4795a",
   "metadata": {},
   "outputs": [],
   "source": [
    "def seam_carve(img, mode, mask=None):\n",
    "    y_img = get_y_img(img)\n",
    "    e_img = get_e_img(y_img)\n",
    "    seam_matrix, strides = get_seam_matrix(e_img, mode)\n",
    "    seam_mask = get_seam_mask(seam_matrix, strides, mode)\n",
    "    print(strides)\n",
    "    \n",
    "    result = shrink(seam_mask, img, mode)\n",
    "            \n",
    "    \n",
    "    return result, mask, seam_mask"
   ]
  },
  {
   "cell_type": "code",
   "execution_count": 8,
   "id": "b2e49871",
   "metadata": {},
   "outputs": [
    {
     "ename": "NameError",
     "evalue": "name 'raw_img' is not defined",
     "output_type": "error",
     "traceback": [
      "\u001b[0;31m---------------------------------------------------------------------------\u001b[0m",
      "\u001b[0;31mNameError\u001b[0m                                 Traceback (most recent call last)",
      "\u001b[0;32m/var/folders/7l/ss_zymbs1vd2w6h9jpn8fqfr0000gn/T/ipykernel_27986/2652369769.py\u001b[0m in \u001b[0;36m<module>\u001b[0;34m\u001b[0m\n\u001b[0;32m----> 1\u001b[0;31m \u001b[0mprint\u001b[0m\u001b[0;34m(\u001b[0m\u001b[0mraw_img\u001b[0m\u001b[0;34m.\u001b[0m\u001b[0mshape\u001b[0m\u001b[0;34m,\u001b[0m \u001b[0mimg\u001b[0m\u001b[0;34m.\u001b[0m\u001b[0mshape\u001b[0m\u001b[0;34m)\u001b[0m\u001b[0;34m\u001b[0m\u001b[0;34m\u001b[0m\u001b[0m\n\u001b[0m",
      "\u001b[0;31mNameError\u001b[0m: name 'raw_img' is not defined"
     ]
    }
   ],
   "source": [
    "print(raw_img.shape, img.shape)"
   ]
  },
  {
   "cell_type": "code",
   "execution_count": 9,
   "id": "1625f92e",
   "metadata": {
    "scrolled": false
   },
   "outputs": [
    {
     "name": "stdout",
     "output_type": "stream",
     "text": [
      "[[ 0  0  0 ...  0  0  0]\n",
      " [ 0 -1  1 ... -1 -1  0]\n",
      " [ 0 -1 -1 ...  0 -1 -1]\n",
      " ...\n",
      " [ 1  1  0 ... -1 -1 -1]\n",
      " [ 1  0  1 ...  0 -1  0]\n",
      " [ 1  0 -1 ...  1  0 -1]]\n"
     ]
    },
    {
     "name": "stderr",
     "output_type": "stream",
     "text": [
      "/usr/local/lib/python3.9/site-packages/skimage/io/_plugins/matplotlib_plugin.py:150: UserWarning: Low image data range; displaying image with stretched contrast.\n",
      "  lo, hi, cmap = _get_display_range(image)\n"
     ]
    },
    {
     "data": {
      "text/plain": [
       "(475, 699, 3)"
      ]
     },
     "execution_count": 9,
     "metadata": {},
     "output_type": "execute_result"
    },
    {
     "data": {
      "image/png": "[encoded data removed]",
      "text/plain": [
       "<Figure size 432x288 with 2 Axes>"
      ]
     },
     "metadata": {
      "needs_background": "light"
     },
     "output_type": "display_data"
    }
   ],
   "source": [
    "raw_img = io.imread('tests/01_test_img_input/img.png')\n",
    "img = np.copy(raw_img)\n",
    "for _ in range(1):\n",
    "    img, mask, seam_mask = seam_carve(img, 'horizontal shrink')\n",
    "\n",
    "io.imshow(seam_mask, cmap='gray')\n",
    "img.shape"
   ]
  },
  {
   "cell_type": "code",
   "execution_count": null,
   "id": "a12ac976",
   "metadata": {},
   "outputs": [],
   "source": []
  },
  {
   "cell_type": "code",
   "execution_count": null,
   "id": "d1541dc2",
   "metadata": {},
   "outputs": [],
   "source": []
  }
 ],
 "metadata": {
  "kernelspec": {
   "display_name": "Python 3 (ipykernel)",
   "language": "python",
   "name": "python3"
  },
  "language_info": {
   "codemirror_mode": {
    "name": "ipython",
    "version": 3
   },
   "file_extension": ".py",
   "mimetype": "text/x-python",
   "name": "python",
   "nbconvert_exporter": "python",
   "pygments_lexer": "ipython3",
   "version": "3.9.7"
  }
 },
 "nbformat": 4,
 "nbformat_minor": 5
}
